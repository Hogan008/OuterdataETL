{
 "cells": [
  {
   "cell_type": "code",
   "execution_count": 1,
   "metadata": {
    "collapsed": true
   },
   "outputs": [],
   "source": [
    "import csv\n",
    "from pymongo import MongoClient   #import可連結mongoDB的套件"
   ]
  },
  {
   "cell_type": "code",
   "execution_count": 11,
   "metadata": {
    "collapsed": true,
    "scrolled": true
   },
   "outputs": [],
   "source": [
    "client = MongoClient('localhost',27018)  #建立連線(在VMware上架mongoDB，輸入此VM的IP及mongoDB的port號：27017)d\n",
    "db = client['data']   #連入database:data(若無此database，會自動建立)\n",
    "collection = db['supergood']   #連入collection:poya(若無此collection，會自動建立)"
   ]
  },
  {
   "cell_type": "code",
   "execution_count": 12,
   "metadata": {
    "collapsed": true
   },
   "outputs": [],
   "source": [
    "with open('suppergood2_afterJieba.csv') as f:   #開啟要匯入的檔案\n",
    "    rows = csv.reader(f, delimiter=',') \n",
    "    for row in rows:    #讀入每一row\n",
    "        tags = []       #將所有tag存入此\n",
    "        for i in range(7,len(row)):    #分詞好的標籤會從索引值7的地方開始\n",
    "            tags.append(row[i]) \n",
    "        collection.insert_one({\"Sto_name\":row[0] ,\n",
    "                               \"Pro_time\":row[1] , \n",
    "                               \"Pro_name\":row[2] ,\n",
    "                               \"Pro_price\":row[3],\n",
    "                               \"Pro_link\":row[4] ,\n",
    "                               \"Pro_fre\":row[5],\n",
    "                               \"Remark\":row[6],\n",
    "                               \"Tags\":tags})"
   ]
  },
  {
   "cell_type": "code",
   "execution_count": null,
   "metadata": {
    "collapsed": true
   },
   "outputs": [],
   "source": [
    "#db.poya.drop()     #如果輸入至mongoDB有問題，保險先把collection刪掉再重做"
   ]
  }
 ],
 "metadata": {
  "kernelspec": {
   "display_name": "Python 3",
   "language": "python",
   "name": "python3"
  },
  "language_info": {
   "codemirror_mode": {
    "name": "ipython",
    "version": 3
   },
   "file_extension": ".py",
   "mimetype": "text/x-python",
   "name": "python",
   "nbconvert_exporter": "python",
   "pygments_lexer": "ipython3",
   "version": "3.6.1"
  }
 },
 "nbformat": 4,
 "nbformat_minor": 2
}
