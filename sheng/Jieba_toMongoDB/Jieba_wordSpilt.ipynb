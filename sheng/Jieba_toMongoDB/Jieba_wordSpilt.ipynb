{
 "cells": [
  {
   "cell_type": "code",
   "execution_count": 3,
   "metadata": {},
   "outputs": [
    {
     "name": "stdout",
     "output_type": "stream",
     "text": [
      "Collecting jieba\n",
      "  Downloading jieba-0.38.zip (7.4MB)\n",
      "Building wheels for collected packages: jieba\n",
      "  Running setup.py bdist_wheel for jieba: started\n",
      "  Running setup.py bdist_wheel for jieba: finished with status 'done'\n",
      "  Stored in directory: C:\\Users\\BIG DATA\\AppData\\Local\\pip\\Cache\\wheels\\fd\\8c\\07\\e495d158d91e11f50c829520f77d20d1f408f18a13cdb15d02\n",
      "Successfully built jieba\n",
      "Installing collected packages: jieba\n",
      "Successfully installed jieba-0.38\n"
     ]
    }
   ],
   "source": [
    "!pip install jieba"
   ]
  },
  {
   "cell_type": "code",
   "execution_count": 49,
   "metadata": {
    "collapsed": true
   },
   "outputs": [],
   "source": [
    "import csv  #載入專門開csv檔案的套件\n",
    "import jieba\n",
    "import jieba.analyse  #載入能萃取出文章中關鍵詞的功能\n",
    "\n",
    "jieba.set_dictionary('dict.txt')   #載入詞庫\n",
    "stop = []        #停用詞詞庫\n",
    "stopkey = open('stop.txt','r',encoding=\"utf-8\").readlines()\n",
    "for s in stopkey:\n",
    "    stop.append(s.strip())"
   ]
  },
  {
   "cell_type": "code",
   "execution_count": 50,
   "metadata": {
    "scrolled": false
   },
   "outputs": [
    {
     "ename": "UnicodeDecodeError",
     "evalue": "'cp950' codec can't decode byte 0x90 in position 2353: illegal multibyte sequence",
     "output_type": "error",
     "traceback": [
      "\u001b[1;31m---------------------------------------------------------------------------\u001b[0m",
      "\u001b[1;31mUnicodeDecodeError\u001b[0m                        Traceback (most recent call last)",
      "\u001b[1;32m<ipython-input-50-459454d35b44>\u001b[0m in \u001b[0;36m<module>\u001b[1;34m()\u001b[0m\n\u001b[1;32m----> 1\u001b[1;33m \u001b[0mcontents\u001b[0m \u001b[1;33m=\u001b[0m \u001b[0mopen\u001b[0m\u001b[1;33m(\u001b[0m\u001b[1;34m'GoHappy.csv'\u001b[0m\u001b[1;33m,\u001b[0m \u001b[1;34m'r'\u001b[0m\u001b[1;33m)\u001b[0m\u001b[1;33m.\u001b[0m\u001b[0mreadlines\u001b[0m\u001b[1;33m(\u001b[0m\u001b[1;33m)\u001b[0m    \u001b[1;31m#開啟檔案\u001b[0m\u001b[1;33m\u001b[0m\u001b[0m\n\u001b[0m\u001b[0;32m      2\u001b[0m \u001b[1;33m\u001b[0m\u001b[0m\n\u001b[0;32m      3\u001b[0m \u001b[0mnew\u001b[0m \u001b[1;33m=\u001b[0m \u001b[0mopen\u001b[0m\u001b[1;33m(\u001b[0m\u001b[1;34m'gohappy_afterJieba.csv'\u001b[0m\u001b[1;33m,\u001b[0m\u001b[1;34m'w'\u001b[0m\u001b[1;33m,\u001b[0m\u001b[0mnewline\u001b[0m\u001b[1;33m=\u001b[0m\u001b[1;34m''\u001b[0m\u001b[1;33m)\u001b[0m\u001b[1;33m\u001b[0m\u001b[0m\n\u001b[0;32m      4\u001b[0m \u001b[0mwriter\u001b[0m \u001b[1;33m=\u001b[0m \u001b[0mcsv\u001b[0m\u001b[1;33m.\u001b[0m\u001b[0mwriter\u001b[0m\u001b[1;33m(\u001b[0m\u001b[0mnew\u001b[0m\u001b[1;33m)\u001b[0m\u001b[1;33m\u001b[0m\u001b[0m\n\u001b[0;32m      5\u001b[0m \u001b[1;33m\u001b[0m\u001b[0m\n",
      "\u001b[1;31mUnicodeDecodeError\u001b[0m: 'cp950' codec can't decode byte 0x90 in position 2353: illegal multibyte sequence"
     ]
    }
   ],
   "source": [
    "contents = open('GoHappy.csv', 'r').readlines()    #開啟要分詞的檔案\n",
    "\n",
    "new = open('gohappy_afterJieba.csv','w',newline='')   #將斷好的字詞存入一個新檔案\n",
    "writer = csv.writer(new)\n",
    "\n",
    "for row in csv.DictReader(contents):    #csv.DictReader函式可依欄位名開啟特定欄位\n",
    "    words = jieba.cut(row['Pro_name'].replace(' ',''), cut_all=False)    #只讓'Pro_name'此欄位下的內容做斷詞\n",
    "    temp = []    #每個詞斷出的結果\n",
    "    newfile =[row['Sto_name'],row['Pro_time'],row['Pro_name'],row['Pro_price'],row['Pro_link'],row['Pro_fre'],row['Remark']]\n",
    "\n",
    "    for word in words:\n",
    "        if word not in stop:\n",
    "            temp.append(word)           \n",
    "          \n",
    "    newfile.extend(temp)\n",
    "    writer.writerow(newfile)   #將所有欄位+斷好的tag寫入檔案\n",
    "\n",
    "#print(newfile)\n",
    "#content"
   ]
  },
  {
   "cell_type": "code",
   "execution_count": null,
   "metadata": {
    "collapsed": true
   },
   "outputs": [],
   "source": []
  }
 ],
 "metadata": {
  "anaconda-cloud": {},
  "kernelspec": {
   "display_name": "Python 3",
   "language": "python",
   "name": "python3"
  },
  "language_info": {
   "codemirror_mode": {
    "name": "ipython",
    "version": 3
   },
   "file_extension": ".py",
   "mimetype": "text/x-python",
   "name": "python",
   "nbconvert_exporter": "python",
   "pygments_lexer": "ipython3",
   "version": "3.6.1"
  }
 },
 "nbformat": 4,
 "nbformat_minor": 2
}
